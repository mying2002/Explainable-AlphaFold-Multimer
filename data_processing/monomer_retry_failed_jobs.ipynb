{
 "cells": [
  {
   "cell_type": "markdown",
   "metadata": {},
   "source": [
    "## Jupyter notebook file to fill in missing data from failed jobs on Grace"
   ]
  },
  {
   "cell_type": "code",
   "execution_count": 1,
   "metadata": {},
   "outputs": [],
   "source": [
    "import pandas as pd"
   ]
  },
  {
   "cell_type": "markdown",
   "metadata": {},
   "source": [
    "### Grab outputs from Grace (with scp)"
   ]
  },
  {
   "cell_type": "code",
   "execution_count": 4,
   "metadata": {},
   "outputs": [
    {
     "name": "stdout",
     "output_type": "stream",
     "text": [
      "(3579, 4)\n"
     ]
    },
    {
     "data": {
      "text/html": [
       "<div>\n",
       "<style scoped>\n",
       "    .dataframe tbody tr th:only-of-type {\n",
       "        vertical-align: middle;\n",
       "    }\n",
       "\n",
       "    .dataframe tbody tr th {\n",
       "        vertical-align: top;\n",
       "    }\n",
       "\n",
       "    .dataframe thead th {\n",
       "        text-align: right;\n",
       "    }\n",
       "</style>\n",
       "<table border=\"1\" class=\"dataframe\">\n",
       "  <thead>\n",
       "    <tr style=\"text-align: right;\">\n",
       "      <th></th>\n",
       "      <th>seq</th>\n",
       "      <th>delete_index</th>\n",
       "      <th>mean_pLDDT_score</th>\n",
       "      <th>pTM_score</th>\n",
       "    </tr>\n",
       "  </thead>\n",
       "  <tbody>\n",
       "    <tr>\n",
       "      <th>0</th>\n",
       "      <td>MTNTDLKPLLDNLRNATEFWNLVAAASATDESTVHNRSYRDALDWL...</td>\n",
       "      <td>19.0</td>\n",
       "      <td>82.3750</td>\n",
       "      <td>0.694824</td>\n",
       "    </tr>\n",
       "    <tr>\n",
       "      <th>1</th>\n",
       "      <td>MTNTDLKPLLDNLRNATEFWNLVAAASATDESTVHNRSYRDALDWL...</td>\n",
       "      <td>3.0</td>\n",
       "      <td>83.9375</td>\n",
       "      <td>0.629395</td>\n",
       "    </tr>\n",
       "    <tr>\n",
       "      <th>2</th>\n",
       "      <td>MTNTDLKPLLDNLRNATEFWNLVAAASATDESTVHNRSYRDALDWL...</td>\n",
       "      <td>11.0</td>\n",
       "      <td>82.0625</td>\n",
       "      <td>0.674805</td>\n",
       "    </tr>\n",
       "    <tr>\n",
       "      <th>3</th>\n",
       "      <td>MTNTDLKPLLDNLRNATEFWNLVAAASATDESTVHNRSYRDALDWL...</td>\n",
       "      <td>10.0</td>\n",
       "      <td>81.8750</td>\n",
       "      <td>0.666504</td>\n",
       "    </tr>\n",
       "    <tr>\n",
       "      <th>4</th>\n",
       "      <td>MTNTDLKPLLDNLRNATEFWNLVAAASATDESTVHNRSYRDALDWL...</td>\n",
       "      <td>12.0</td>\n",
       "      <td>75.6875</td>\n",
       "      <td>0.498291</td>\n",
       "    </tr>\n",
       "  </tbody>\n",
       "</table>\n",
       "</div>"
      ],
      "text/plain": [
       "                                                 seq  delete_index  \\\n",
       "0  MTNTDLKPLLDNLRNATEFWNLVAAASATDESTVHNRSYRDALDWL...          19.0   \n",
       "1  MTNTDLKPLLDNLRNATEFWNLVAAASATDESTVHNRSYRDALDWL...           3.0   \n",
       "2  MTNTDLKPLLDNLRNATEFWNLVAAASATDESTVHNRSYRDALDWL...          11.0   \n",
       "3  MTNTDLKPLLDNLRNATEFWNLVAAASATDESTVHNRSYRDALDWL...          10.0   \n",
       "4  MTNTDLKPLLDNLRNATEFWNLVAAASATDESTVHNRSYRDALDWL...          12.0   \n",
       "\n",
       "   mean_pLDDT_score  pTM_score  \n",
       "0           82.3750   0.694824  \n",
       "1           83.9375   0.629395  \n",
       "2           82.0625   0.674805  \n",
       "3           81.8750   0.666504  \n",
       "4           75.6875   0.498291  "
      ]
     },
     "execution_count": 4,
     "metadata": {},
     "output_type": "execute_result"
    }
   ],
   "source": [
    "outputs_df = pd.read_csv('../deletion_perturb_out/monomer_output.csv') # csv outputs from grace\n",
    "new_df = outputs_df.drop_duplicates(subset=['seq', 'delete_index'])\n",
    "print(new_df.shape)\n",
    "new_df.head()"
   ]
  },
  {
   "cell_type": "markdown",
   "metadata": {},
   "source": [
    "### Convert config file to df\n",
    "Contains expected outputs"
   ]
  },
  {
   "cell_type": "code",
   "execution_count": 5,
   "metadata": {},
   "outputs": [
    {
     "name": "stdout",
     "output_type": "stream",
     "text": [
      "(3576, 3)\n"
     ]
    }
   ],
   "source": [
    "expected_df = pd.read_csv('../config_files/monomer_config.txt', sep='\\t') # check path\n",
    "print(expected_df.shape)"
   ]
  },
  {
   "cell_type": "markdown",
   "metadata": {},
   "source": [
    "### Left join outputs onto expected to find matching/missing rows"
   ]
  },
  {
   "cell_type": "code",
   "execution_count": 6,
   "metadata": {},
   "outputs": [
    {
     "name": "stdout",
     "output_type": "stream",
     "text": [
      "(3579, 5)\n"
     ]
    }
   ],
   "source": [
    "left_join_df = pd.merge(expected_df, new_df, on=['seq', 'delete_index'], how='right')\n",
    "print(left_join_df.shape)"
   ]
  },
  {
   "cell_type": "code",
   "execution_count": 7,
   "metadata": {},
   "outputs": [
    {
     "name": "stdout",
     "output_type": "stream",
     "text": [
      "(3576, 5)\n",
      "(3, 5)\n"
     ]
    }
   ],
   "source": [
    "# sub dataframe of matching data\n",
    "matching_df = left_join_df[~left_join_df.isnull().any(axis=1)]\n",
    "print(matching_df.shape)\n",
    "\n",
    "# sub dataframe of missing data\n",
    "missing_df = left_join_df[left_join_df.isnull().any(axis=1)]\n",
    "print(missing_df.shape)"
   ]
  },
  {
   "cell_type": "code",
   "execution_count": 18,
   "metadata": {},
   "outputs": [],
   "source": [
    "# Once missing_df has shape (0, 5) (i.e. it is missing no rows), save matching df to csv\n",
    "# matching_df.to_csv('../deletion_perturb_out/matching_monomer_output.csv', index=False) # check path"
   ]
  },
  {
   "cell_type": "markdown",
   "metadata": {},
   "source": [
    "#### Save missing data as a \"to fill in\" config file"
   ]
  },
  {
   "cell_type": "code",
   "execution_count": 8,
   "metadata": {},
   "outputs": [],
   "source": [
    "n_copies = 1 # run each missing job twice\n",
    "\n",
    "fill_df = pd.DataFrame({})\n",
    "for _ in range(n_copies):\n",
    "    fill_df = pd.concat([fill_df, missing_df], ignore_index=True)\n",
    "\n",
    "fill_df = fill_df.drop(['mean_pLDDT_score', 'pTM_score'], axis=1)\n",
    "fill_df = fill_df.reset_index(drop=True)\n",
    "fill_df['ArrayTaskID'] = fill_df.index + 1 # overwrites ArrayTaskID\n",
    "\n",
    "# save to local\n",
    "# fill_df.to_csv('../job_array_config_files/fill_monomer_config.txt', sep='\\t', index=False)\n"
   ]
  },
  {
   "cell_type": "code",
   "execution_count": null,
   "metadata": {},
   "outputs": [],
   "source": []
  }
 ],
 "metadata": {
  "interpreter": {
   "hash": "b2bd4249cb02e278a16cf7db7b5d6b57cc83d51d8b7488d6deb3ddef0291f44c"
  },
  "kernelspec": {
   "display_name": "Python 3.10.12 64-bit ('sds491': conda)",
   "name": "python3"
  },
  "language_info": {
   "codemirror_mode": {
    "name": "ipython",
    "version": 3
   },
   "file_extension": ".py",
   "mimetype": "text/x-python",
   "name": "python",
   "nbconvert_exporter": "python",
   "pygments_lexer": "ipython3",
   "version": "3.12.2"
  },
  "orig_nbformat": 4
 },
 "nbformat": 4,
 "nbformat_minor": 2
}
